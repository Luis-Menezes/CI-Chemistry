{
  "cells": [
    {
      "cell_type": "markdown",
      "metadata": {
        "id": "view-in-github",
        "colab_type": "text"
      },
      "source": [
        "<a href=\"https://colab.research.google.com/github/Luis-Menezes/CI-Chemistry/blob/main/handson_assignment.ipynb\" target=\"_parent\"><img src=\"https://colab.research.google.com/assets/colab-badge.svg\" alt=\"Open In Colab\"/></a>"
      ]
    },
    {
      "cell_type": "markdown",
      "id": "0ef40b1f",
      "metadata": {
        "id": "0ef40b1f"
      },
      "source": [
        "# Computational Intelligence in Chemistry - Hands-on dataset analysis"
      ]
    },
    {
      "cell_type": "markdown",
      "source": [
        "## Needed packages"
      ],
      "metadata": {
        "id": "4phWAA3hJgRR"
      },
      "id": "4phWAA3hJgRR"
    },
    {
      "cell_type": "code",
      "source": [
        "import os\n",
        "import numpy as np\n",
        "import pandas as pd\n",
        "import matplotlib.pyplot as plt\n",
        "import seaborn as sns"
      ],
      "metadata": {
        "id": "z9-ScO3MJjmZ"
      },
      "id": "z9-ScO3MJjmZ",
      "execution_count": null,
      "outputs": []
    },
    {
      "cell_type": "markdown",
      "id": "3b654bed",
      "metadata": {
        "id": "3b654bed"
      },
      "source": [
        "## 1. Load and unpack QM9 dataset"
      ]
    },
    {
      "cell_type": "code",
      "execution_count": 1,
      "id": "5c01db3e",
      "metadata": {
        "colab": {
          "base_uri": "https://localhost:8080/"
        },
        "id": "5c01db3e",
        "outputId": "5211a78a-3e03-4dfa-eabe-66e8d05267a2"
      },
      "outputs": [
        {
          "output_type": "stream",
          "name": "stdout",
          "text": [
            "--2025-09-18 16:05:53--  https://www.dropbox.com/scl/fi/2ugqxr9fa9nob1byc8ura/dsgdb9nsd.xyz.tar.bz2?rlkey=pp2k6fy4360yldrypwghwbi6d\n",
            "Resolving www.dropbox.com (www.dropbox.com)... 162.125.1.18, 2620:100:6016:18::a27d:112\n",
            "Connecting to www.dropbox.com (www.dropbox.com)|162.125.1.18|:443... connected.\n",
            "HTTP request sent, awaiting response... 302 Found\n",
            "Location: https://ucecb17112347310ba933353761e.dl.dropboxusercontent.com/cd/0/inline/CxmoluCoJ9NjwR6Dhy0ct0cNMH1u472kLLRsA4czVa7XqCwafO9ovdp4gWp44MWDrSGhVoGhhe7Y9HCggg7u7kN6CYSVSSmrbpDBu8CP8DnQYDbKAWo1lv-TEJ2Y9YQE8lmIAhZDo1Z3Htar6KGRZ0Yz/file# [following]\n",
            "--2025-09-18 16:05:53--  https://ucecb17112347310ba933353761e.dl.dropboxusercontent.com/cd/0/inline/CxmoluCoJ9NjwR6Dhy0ct0cNMH1u472kLLRsA4czVa7XqCwafO9ovdp4gWp44MWDrSGhVoGhhe7Y9HCggg7u7kN6CYSVSSmrbpDBu8CP8DnQYDbKAWo1lv-TEJ2Y9YQE8lmIAhZDo1Z3Htar6KGRZ0Yz/file\n",
            "Resolving ucecb17112347310ba933353761e.dl.dropboxusercontent.com (ucecb17112347310ba933353761e.dl.dropboxusercontent.com)... 162.125.1.15, 2620:100:6016:15::a27d:10f\n",
            "Connecting to ucecb17112347310ba933353761e.dl.dropboxusercontent.com (ucecb17112347310ba933353761e.dl.dropboxusercontent.com)|162.125.1.15|:443... connected.\n",
            "HTTP request sent, awaiting response... 302 Found\n",
            "Location: /cd/0/inline2/CxlnLLED-2mXKmzelXXYS8cNlXjFfPEtMXnWL8Z_zKJWoKSAgJ6cNrGKaixpVNCmthi-_Fo-n9MbfOiZCUc7aRbI_TJIMRxIvdSREYoG9KtXoKwkIPoqIbnTaWCZJpZPcf_koIDV8hqUT3Eq8-KivQvKNGJvximLNZOEQCMw7Ql9ayTA334V_v-wYBcV9us0cu3OxYeGNXzeiHwsyHmzyurpouWYsVsSeTp_xNs0IBSjQpdNFJFOPEYQmV_3rWMXuVWEuAjEiU1Kab02-AB2vlz8eW-ju5mwt-m7x-ldeUxIUgNBf99G67gTp0T037X15okwY1DthEvihdbpRwzXPeu6HljiUktPjyGw6bGcUsFL_yax0YlCdxM3foIy-DF_pt0/file [following]\n",
            "--2025-09-18 16:05:54--  https://ucecb17112347310ba933353761e.dl.dropboxusercontent.com/cd/0/inline2/CxlnLLED-2mXKmzelXXYS8cNlXjFfPEtMXnWL8Z_zKJWoKSAgJ6cNrGKaixpVNCmthi-_Fo-n9MbfOiZCUc7aRbI_TJIMRxIvdSREYoG9KtXoKwkIPoqIbnTaWCZJpZPcf_koIDV8hqUT3Eq8-KivQvKNGJvximLNZOEQCMw7Ql9ayTA334V_v-wYBcV9us0cu3OxYeGNXzeiHwsyHmzyurpouWYsVsSeTp_xNs0IBSjQpdNFJFOPEYQmV_3rWMXuVWEuAjEiU1Kab02-AB2vlz8eW-ju5mwt-m7x-ldeUxIUgNBf99G67gTp0T037X15okwY1DthEvihdbpRwzXPeu6HljiUktPjyGw6bGcUsFL_yax0YlCdxM3foIy-DF_pt0/file\n",
            "Reusing existing connection to ucecb17112347310ba933353761e.dl.dropboxusercontent.com:443.\n",
            "HTTP request sent, awaiting response... 200 OK\n",
            "Length: 86144227 (82M) [application/octet-stream]\n",
            "Saving to: ‘data.xyz.tar.bz2’\n",
            "\n",
            "data.xyz.tar.bz2    100%[===================>]  82.15M   132MB/s    in 0.6s    \n",
            "\n",
            "2025-09-18 16:05:55 (132 MB/s) - ‘data.xyz.tar.bz2’ saved [86144227/86144227]\n",
            "\n"
          ]
        }
      ],
      "source": [
        "!wget -O data.xyz.tar.bz2 https://www.dropbox.com/scl/fi/2ugqxr9fa9nob1byc8ura/dsgdb9nsd.xyz.tar.bz2?rlkey=pp2k6fy4360yldrypwghwbi6d&st=1cohswqh&dl=0"
      ]
    },
    {
      "cell_type": "code",
      "execution_count": 2,
      "id": "6d286fb7",
      "metadata": {
        "id": "6d286fb7"
      },
      "outputs": [],
      "source": [
        "!mkdir qm9_files\n",
        "!tar -xjf data.xyz.tar.bz2 -C qm9_files/"
      ]
    },
    {
      "cell_type": "markdown",
      "source": [
        "## 2. Open XYZ files and extract the properties and SMILES"
      ],
      "metadata": {
        "id": "-qory3LXJOOY"
      },
      "id": "-qory3LXJOOY"
    },
    {
      "cell_type": "code",
      "source": [
        "qm9_folder = 'qm9_files/'\n",
        "with open(qm9_folder+'dsgdb9nsd_113885.xyz') as file:\n",
        "  for line in file:\n",
        "    print(line)"
      ],
      "metadata": {
        "colab": {
          "base_uri": "https://localhost:8080/"
        },
        "id": "sxZq-2ApInOy",
        "outputId": "8f872146-0020-448e-91e9-a0bd5bcf74e1"
      },
      "id": "sxZq-2ApInOy",
      "execution_count": 3,
      "outputs": [
        {
          "output_type": "stream",
          "name": "stdout",
          "text": [
            "19\n",
            "\n",
            "gdb 113885\t3.70802\t0.80999\t0.7081\t2.6975\t73.65\t-0.2639\t0.0141\t0.278\t1593.5236\t0.156316\t-460.174889\t-460.164623\t-460.163679\t-460.212278\t35.326\t\n",
            "\n",
            "C\t-0.008898706\t 1.435343511\t-0.1229342875\t-0.480889\n",
            "\n",
            "C\t-0.097211668\t-0.0611740136\t 0.0533750899\t 0.431334\n",
            "\n",
            "O\t-0.522805097\t-0.6329577977\t 1.0223608396\t-0.34442\n",
            "\n",
            "O\t 0.3874153201\t-0.692641184\t-1.0454419183\t-0.247509\n",
            "\n",
            "C\t 0.3502508225\t-2.1099666389\t-1.0216443391\t 0.118249\n",
            "\n",
            "C\t-0.6452778548\t-2.8049992501\t-1.9010293635\t-0.305338\n",
            "\n",
            "C\t 0.8299955957\t-2.806393386\t-2.257736521\t-0.04378\n",
            "\n",
            "C\t 1.3090797685\t-2.0281448361\t-3.4552388748\t-0.093611\n",
            "\n",
            "O\t 1.0953742585\t-2.8320000843\t-4.6085691448\t-0.419869\n",
            "\n",
            "H\t-0.3728027153\t 1.9278328937\t 0.7777832851\t 0.149542\n",
            "\n",
            "H\t 1.0248947898\t 1.7315350968\t-0.3210999853\t 0.149596\n",
            "\n",
            "H\t-0.6070917791\t 1.7459702376\t-0.9844780335\t 0.149165\n",
            "\n",
            "H\t 0.576972916\t-2.5190329042\t-0.0453019279\t 0.12476\n",
            "\n",
            "H\t-1.1102986284\t-3.7153217605\t-1.5406769745\t 0.122235\n",
            "\n",
            "H\t-1.2860640388\t-2.1730656326\t-2.5065209428\t 0.123942\n",
            "\n",
            "H\t 1.3703384329\t-3.7344941519\t-2.0947497795\t 0.099249\n",
            "\n",
            "H\t 0.7657375539\t-1.0750002942\t-3.520915088\t 0.093512\n",
            "\n",
            "H\t 2.3772420762\t-1.7869618238\t-3.3338501708\t 0.088397\n",
            "\n",
            "H\t 1.4614781532\t-2.3660257414\t-5.3661566133\t 0.285436\n",
            "\n",
            "22.6998\t64.0326\t79.7445\t101.4998\t112.8252\t218.1219\t253.5272\t277.0348\t331.6303\t423.4116\t465.6066\t567.6177\t607.3202\t631.5392\t789.6137\t829.7557\t875.8417\t907.9561\t950.2502\t1010.1721\t1026.9995\t1049.6552\t1062.2854\t1070.3268\t1074.1823\t1128.031\t1162.5733\t1172.7499\t1235.0032\t1256.0659\t1259.8842\t1280.3948\t1366.5143\t1393.3065\t1415.1833\t1467.7614\t1469.6499\t1476.3772\t1489.9738\t1523.5068\t1832.3655\t2973.5684\t3018.6407\t3057.2673\t3122.0231\t3138.0576\t3152.0484\t3170.0876\t3194.9118\t3228.12\t3826.8722\n",
            "\n",
            "CC(=O)OC1CC1CO\tCC(=O)O[C@H]1C[C@H]1CO\t\n",
            "\n",
            "InChI=1S/C6H10O3/c1-4(8)9-6-2-5(6)3-7/h5-7H,2-3H2,1H3\tInChI=1S/C6H10O3/c1-4(8)9-6-2-5(6)3-7/h5-7H,2-3H2,1H3/t5-,6-/m0/s1\n",
            "\n"
          ]
        }
      ]
    },
    {
      "cell_type": "code",
      "source": [
        "def load_validate_mol(file):\n",
        "  with open(file, 'r') as file:\n",
        "    n_atoms = file.readline()\n",
        "\n",
        "    print(n_atoms)\n",
        "\n",
        "\n",
        "if __name__ == '__main__':\n",
        "  load_validate_mol(qm9_folder+'dsgdb9nsd_113885.xyz')"
      ],
      "metadata": {
        "colab": {
          "base_uri": "https://localhost:8080/"
        },
        "id": "VJ4_HffGlQMg",
        "outputId": "8bd7a015-e4d5-4a43-88ef-1e9a1ff91392"
      },
      "id": "VJ4_HffGlQMg",
      "execution_count": 4,
      "outputs": [
        {
          "output_type": "stream",
          "name": "stdout",
          "text": [
            "19\n",
            "\n"
          ]
        }
      ]
    }
  ],
  "metadata": {
    "kernelspec": {
      "display_name": "base",
      "language": "python",
      "name": "python3"
    },
    "language_info": {
      "codemirror_mode": {
        "name": "ipython",
        "version": 3
      },
      "file_extension": ".py",
      "mimetype": "text/x-python",
      "name": "python",
      "nbconvert_exporter": "python",
      "pygments_lexer": "ipython3",
      "version": "3.13.5"
    },
    "colab": {
      "provenance": [],
      "include_colab_link": true
    }
  },
  "nbformat": 4,
  "nbformat_minor": 5
}